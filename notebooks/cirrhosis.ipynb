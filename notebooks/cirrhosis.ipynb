{
 "cells": [
  {
   "cell_type": "code",
   "execution_count": 1,
   "metadata": {},
   "outputs": [],
   "source": [
    "# Se importan Instaladores\n",
    "#pip install matplotlib\n",
    "#pip install seaborn"
   ]
  },
  {
   "cell_type": "markdown",
   "metadata": {},
   "source": [
    "# Importar librerias"
   ]
  },
  {
   "cell_type": "markdown",
   "metadata": {},
   "source": [
    "## Importar librerias de terceros"
   ]
  },
  {
   "cell_type": "code",
   "execution_count": 145,
   "metadata": {},
   "outputs": [],
   "source": [
    "# Se importan librerías\n",
    "import pandas as pd\n",
    "import matplotlib.pyplot as plt\n",
    "import seaborn as sns\n",
    "import numpy as np\n",
    "from sklearn.model_selection import train_test_split\n",
    "from sklearn.impute import SimpleImputer\n",
    "from sklearn.compose import ColumnTransformer\n",
    "from sklearn.preprocessing import FunctionTransformer, StandardScaler, OneHotEncoder\n",
    "from sklearn.pipeline import Pipeline\n",
    "from sklearn.linear_model import LogisticRegression\n",
    "from sklearn.metrics import confusion_matrix, classification_report\n",
    "from sklearn.model_selection import cross_val_score\n",
    "from urllib.request import urlretrieve\n",
    "from zipfile import ZipFile\n",
    "import os\n",
    "import pickle\n"
   ]
  },
  {
   "cell_type": "markdown",
   "metadata": {},
   "source": [
    "# Bajar y extraer archivos"
   ]
  },
  {
   "cell_type": "markdown",
   "metadata": {},
   "source": [
    "La siguientes celdas solo se ejecutan si no se tiene el archivo cirrhosis.csv y no se puede obtener con dvc pull"
   ]
  },
  {
   "cell_type": "markdown",
   "metadata": {},
   "source": [
    "## Definir fuente de los archivos, origen y destino"
   ]
  },
  {
   "cell_type": "code",
   "execution_count": 37,
   "metadata": {},
   "outputs": [],
   "source": [
    "# Se declaran las variables url, destino_del_archivo_descargado y destino_de_archivo_extraido\n",
    "\n",
    "url=\"https://archive.ics.uci.edu/static/public/878/cirrhosis+patient+survival+prediction+dataset-1.zip\"\n",
    "destino_del_archivo_descargado=\"../data/cirrhosis.zip\"\n",
    "destino_de_archivo_extraido=\"../data\"\n"
   ]
  },
  {
   "cell_type": "markdown",
   "metadata": {},
   "source": [
    "## Descargar El archivo"
   ]
  },
  {
   "cell_type": "code",
   "execution_count": null,
   "metadata": {},
   "outputs": [],
   "source": [
    "urlretrieve(url,destino_del_archivo_descargado)"
   ]
  },
  {
   "cell_type": "markdown",
   "metadata": {},
   "source": [
    "## Extraer el contenido del zip y borrar el zip"
   ]
  },
  {
   "cell_type": "code",
   "execution_count": 39,
   "metadata": {},
   "outputs": [],
   "source": [
    "with ZipFile(destino_del_archivo_descargado) as zObject: \n",
    "                zObject.extractall(path=destino_de_archivo_extraido)\n",
    "\n",
    "os.remove(destino_del_archivo_descargado)\n"
   ]
  },
  {
   "cell_type": "markdown",
   "metadata": {},
   "source": [
    "# Leer los datos"
   ]
  },
  {
   "cell_type": "markdown",
   "metadata": {},
   "source": [
    "## Pasar el archivo csv a un data frame de pandas"
   ]
  },
  {
   "cell_type": "markdown",
   "metadata": {},
   "source": [
    "### Leer el csv y pasalo a data frame de pandas"
   ]
  },
  {
   "cell_type": "code",
   "execution_count": null,
   "metadata": {},
   "outputs": [],
   "source": [
    "# Lectura de archivo\n",
    "path_del_archivo_cirrhosis=\"../data/cirrhosis.csv\"\n",
    "df_cirrhosis = pd.read_csv(path_del_archivo_cirrhosis)\n",
    "df_cirrhosis.head()"
   ]
  },
  {
   "cell_type": "markdown",
   "metadata": {},
   "source": [
    "## "
   ]
  },
  {
   "cell_type": "markdown",
   "metadata": {},
   "source": [
    "# Limpieza de Datos"
   ]
  },
  {
   "cell_type": "markdown",
   "metadata": {},
   "source": [
    "Las siguientes celdas se ejecutan si no se tiene el archivo de cirrhosis_clean.csv o se hacen cambios en la sección."
   ]
  },
  {
   "cell_type": "markdown",
   "metadata": {},
   "source": [
    "## Describir el data Frame para comprender la información"
   ]
  },
  {
   "cell_type": "markdown",
   "metadata": {},
   "source": [
    "### Obtener el tamaño del data frame"
   ]
  },
  {
   "cell_type": "code",
   "execution_count": null,
   "metadata": {},
   "outputs": [],
   "source": [
    "# Dimensiones del set de datos\n",
    "print(\"Tamaño del DataFrame:\", df_cirrhosis.shape)"
   ]
  },
  {
   "cell_type": "markdown",
   "metadata": {},
   "source": [
    "### Ver de que tipo son las variables"
   ]
  },
  {
   "cell_type": "code",
   "execution_count": null,
   "metadata": {},
   "outputs": [],
   "source": [
    "df_cirrhosis.dtypes"
   ]
  },
  {
   "cell_type": "markdown",
   "metadata": {},
   "source": [
    "Vemos que tenemos 3 columnas de tipo entero, 10 de tipo flotante y 7 de tipo objeto"
   ]
  },
  {
   "cell_type": "markdown",
   "metadata": {},
   "source": [
    "## Identificar valores nulos"
   ]
  },
  {
   "cell_type": "markdown",
   "metadata": {},
   "source": [
    "### Obtener porcentajes de valores nulos"
   ]
  },
  {
   "cell_type": "code",
   "execution_count": null,
   "metadata": {},
   "outputs": [],
   "source": [
    "# Identificar % de los datos con valores nulos\n",
    "valores_Nullos_del_df_cirrhosis = df_cirrhosis.isna()\n",
    "valores_Nullos_del_df_cirrhosis.mean()*100"
   ]
  },
  {
   "cell_type": "markdown",
   "metadata": {},
   "source": [
    "Podemos observar que 12 de las columnas contienen valores nulos"
   ]
  },
  {
   "cell_type": "markdown",
   "metadata": {},
   "source": [
    "## Eliminar valores Nulos"
   ]
  },
  {
   "cell_type": "markdown",
   "metadata": {},
   "source": [
    "### Se eliminan valores nulos de la columna Drug"
   ]
  },
  {
   "cell_type": "markdown",
   "metadata": {},
   "source": [
    "Se eliminan los pacientes que no quisieron participar en el estudio. Ninguno de dichos pacientes estaba tomando algún medicamento por ello en los datos vienen como nulos en la variable \"Drug\""
   ]
  },
  {
   "cell_type": "code",
   "execution_count": null,
   "metadata": {},
   "outputs": [],
   "source": [
    "# Eliminar la columna \n",
    "df_cirrhosis=df_cirrhosis.dropna(subset=['Drug'])\n",
    "# Impirmir el df sin los nulos de Drug\n",
    "df_cirrhosis.head()"
   ]
  },
  {
   "cell_type": "markdown",
   "metadata": {},
   "source": [
    "### Guardar la version del set de datos limpio en csv, para poder mantener las versiones en dvc"
   ]
  },
  {
   "cell_type": "markdown",
   "metadata": {},
   "source": [
    "#### Guardar el df sin nulos en columna drugs"
   ]
  },
  {
   "cell_type": "code",
   "execution_count": 58,
   "metadata": {},
   "outputs": [],
   "source": [
    "cirrhosis_df_clean_path = '../data/cirrhosis_clean.csv'\n",
    "df_cirrhosis.to_csv(cirrhosis_df_clean_path)"
   ]
  },
  {
   "cell_type": "markdown",
   "metadata": {},
   "source": [
    "### Revisar el total de pacientes a revisar"
   ]
  },
  {
   "cell_type": "code",
   "execution_count": null,
   "metadata": {},
   "outputs": [],
   "source": [
    "# Universo de pacientes a estudiar\n",
    "valores_Nullos_del_df_cirrhosis_limpios = df_cirrhosis.isna()\n",
    "valores_Nullos_del_df_cirrhosis_limpios.count()"
   ]
  },
  {
   "cell_type": "markdown",
   "metadata": {},
   "source": [
    "### Observar el porcentaje de nulos restantes"
   ]
  },
  {
   "cell_type": "code",
   "execution_count": null,
   "metadata": {},
   "outputs": [],
   "source": [
    "# Identifica nuevos porcentajes de valores nulos.\n",
    "valores_Nullos_del_df_cirrhosis_limpios.mean()*100"
   ]
  },
  {
   "cell_type": "markdown",
   "metadata": {},
   "source": [
    "Observamos que aun algunas columnas contiene valores nulos, sin embargo para poder decidir que hacer con ellos se tiene que hacer un analiísi más profundo, para saber si se van a quitar o se van a imputar."
   ]
  },
  {
   "cell_type": "markdown",
   "metadata": {},
   "source": [
    "# EDA"
   ]
  },
  {
   "cell_type": "markdown",
   "metadata": {},
   "source": [
    "Estas celdas se ejecutan para realizar el analisis de entrenamiento, si no se hacen cambios no es necesario ejecturar estas celdas. Sin mebargo si no se tienen los archivos de prueba, validacion y entrenamiento en csv, se puede ejecutar, pero lo ideal es jalar los archivos con dvc."
   ]
  },
  {
   "cell_type": "markdown",
   "metadata": {},
   "source": [
    "### Separar los datos en entrenamiento alidación y pruebas"
   ]
  },
  {
   "cell_type": "markdown",
   "metadata": {},
   "source": [
    "Se seperan los datos al inicio de EDA para evitar leer información ajena al entrenamiento y poder tomar decisiones basadas unicamente en el set de entrenamiento y no afectar al modelo con información externa."
   ]
  },
  {
   "cell_type": "code",
   "execution_count": 69,
   "metadata": {},
   "outputs": [],
   "source": [
    "df_cirrhosis = pd.read_csv('../data/cirrhosis_clean.csv').drop('Unnamed: 0',axis=1)\n",
    "cirrhosis_Xtrain, cirrhosis_Xtest1, cirrhosis_ytrain, cirrhosis_ytest1 = train_test_split(df_cirrhosis.drop(columns=[\"Status\"]),df_cirrhosis[\"Status\"], test_size=0.3, random_state=42, stratify=df_cirrhosis[\"Status\"])\n",
    "cirrhosis_Xval, cirrhosis_Xtest, cirrhosis_yval, cirrhosis_ytest = train_test_split(cirrhosis_Xtest1,cirrhosis_ytest1, test_size=0.5, random_state=42, stratify=cirrhosis_ytest1)"
   ]
  },
  {
   "cell_type": "markdown",
   "metadata": {},
   "source": [
    "### Revisamos el tamaño de los sets de entrenamiento, validación y pruebas"
   ]
  },
  {
   "cell_type": "code",
   "execution_count": null,
   "metadata": {},
   "outputs": [],
   "source": [
    "print(f\"El tamaño del set de entrenamiento es {cirrhosis_Xtrain.shape}\")\n",
    "print(f\"El tamaño del set de prueba es {cirrhosis_Xtest.shape}\")\n",
    "print(f\"El tamaño del set de validación es {cirrhosis_Xval.shape}\")"
   ]
  },
  {
   "cell_type": "markdown",
   "metadata": {},
   "source": [
    "Confirmamos que los datos se separaron de manera correcta"
   ]
  },
  {
   "cell_type": "markdown",
   "metadata": {},
   "source": [
    "### Guardar set de entrenamiento en csv, para poder tener versiones en dvc"
   ]
  },
  {
   "cell_type": "code",
   "execution_count": 73,
   "metadata": {},
   "outputs": [],
   "source": [
    "cirrhosis_X_train_path = '../data/cirrhosis_X_train.csv'\n",
    "cirrhosis_Xtrain.to_csv(cirrhosis_X_train_path)\n",
    "cirrhosis_y_train_path = '../data/cirrhosis_y_train.csv'\n",
    "cirrhosis_ytrain.to_csv(cirrhosis_y_train_path)"
   ]
  },
  {
   "cell_type": "markdown",
   "metadata": {},
   "source": [
    "### Guardar set de pruebas en csv, para poder tener versiones en dvc"
   ]
  },
  {
   "cell_type": "code",
   "execution_count": 74,
   "metadata": {},
   "outputs": [],
   "source": [
    "cirrhosis_X_test_path = '../data/cirrhosis_X_test.csv'\n",
    "cirrhosis_Xtest.to_csv(cirrhosis_X_test_path)\n",
    "cirrhosis_y_test_path = '../data/cirrhosis_y_test.csv'\n",
    "cirrhosis_ytest.to_csv(cirrhosis_y_test_path)"
   ]
  },
  {
   "cell_type": "markdown",
   "metadata": {},
   "source": [
    "### Guardar se te validación en csv, para poder tener versiones en dvc"
   ]
  },
  {
   "cell_type": "code",
   "execution_count": 75,
   "metadata": {},
   "outputs": [],
   "source": [
    "cirrhosis_X_val_path = '../data/cirrhosis_X_val.csv'\n",
    "cirrhosis_Xval.to_csv(cirrhosis_X_val_path)\n",
    "cirrhosis_y_val_path = '../data/cirrhosis_y_val.csv'\n",
    "cirrhosis_yval.to_csv(cirrhosis_y_val_path)"
   ]
  },
  {
   "cell_type": "markdown",
   "metadata": {},
   "source": [
    "### Describir las variables numericas del set de datos"
   ]
  },
  {
   "cell_type": "code",
   "execution_count": null,
   "metadata": {},
   "outputs": [],
   "source": [
    "#Describir variables numericas\n",
    "cirrhosis_Xtrain.describe().T"
   ]
  },
  {
   "cell_type": "markdown",
   "metadata": {},
   "source": [
    "### Describir variables no numericas del set de datos"
   ]
  },
  {
   "cell_type": "code",
   "execution_count": null,
   "metadata": {},
   "outputs": [],
   "source": [
    "cirrhosis_Xtrain.describe(include=[\"O\"]).T"
   ]
  },
  {
   "cell_type": "markdown",
   "metadata": {},
   "source": [
    "### Observaremos los datos de los valores nulos para poder comprender que hacer con ellos"
   ]
  },
  {
   "cell_type": "code",
   "execution_count": null,
   "metadata": {},
   "outputs": [],
   "source": [
    "valores_Nulos_Cirrhosis_train = valoresaNullos(cirrhosis_Xtrain)\n",
    "valores_Nulos_Cirrhosis_train.identificar_valores_nulos()\n",
    "cirrhosis_Xtrain_null = valores_Nulos_Cirrhosis_train.get_isna()\n",
    "cirrhosis_Xtrain[cirrhosis_Xtrain_null.any(axis=1)]"
   ]
  },
  {
   "cell_type": "markdown",
   "metadata": {},
   "source": [
    "Aqui vemos que lo más probable los datos nulos en los diferentes componentes, puden deberse a un examen distinto realizado, o fallas en la lectura en el analisis médico hecho. Por eso tenemos dos opciones, eliminar las lecturas fallidas o remplazar las lecturas fallidas por el promedio o la media de la columna. La primera prueba que realizaremos será remplazar con el promedio, para simular que la lectura fue correcta y dio un valor dentro del promedio. Esto lo haremos en la sección de preprocesamiento."
   ]
  },
  {
   "cell_type": "markdown",
   "metadata": {},
   "source": [
    "### Revisar la columna Sex"
   ]
  },
  {
   "cell_type": "code",
   "execution_count": null,
   "metadata": {},
   "outputs": [],
   "source": [
    "# Graficar Histograma de Sex\n",
    "cirrhosis_Xtrain['Sex'].hist()"
   ]
  },
  {
   "cell_type": "markdown",
   "metadata": {},
   "source": [
    "Revisando los datos, se nota una gran diferencia entre hombres y mujeres en la distribución, al tener una mayoria de mujeres significativa, se revisara con negocio si se mantiene o elimina la columna, y si queremos hacer solo predicciones con mujeres, de igual manera habrá que revisar la correlación de esta con el campo, para ver si realmente es significativa, lo cual se vera más adelante."
   ]
  },
  {
   "cell_type": "markdown",
   "metadata": {},
   "source": [
    "### Analysis univariado de variables numericas"
   ]
  },
  {
   "cell_type": "markdown",
   "metadata": {},
   "source": [
    "#### Representación de histogrmas para visualizar las distirbuciones"
   ]
  },
  {
   "cell_type": "code",
   "execution_count": null,
   "metadata": {},
   "outputs": [],
   "source": [
    "# Se evalúa si las variables númericas requieren alguna transformación (Excluytendo ID, que sabemos que no la necesitamos)\n",
    "cat_con = cirrhosis_Xtrain.select_dtypes(include=\"number\").columns.tolist()[1:]\n",
    "\n",
    "fig, axes = plt.subplots(4,3, figsize=(50,40))\n",
    "axes = axes.ravel()\n",
    "for col, ax in zip(cirrhosis_Xtrain[cat_con], axes):\n",
    "  sns.histplot(x=cirrhosis_Xtrain[col], ax=ax)\n",
    "  ax.set(title=f'{col}', xlabel=None)"
   ]
  },
  {
   "cell_type": "markdown",
   "metadata": {},
   "source": [
    "Observando los histogramas, podemos ver que hay algunas variables que cuentan con distribuciones no homogeneas, por lo que muy probablemente, exitan outlieres y debamos hacer alguna transformación para estas variables.Algunas de estas variables son Bilirubin, Cholesterol, Copper, Alk_Phos, SGOT, tryglicerides, Prothrombin. Las siguientes transformaciones se aplicaran en la sección de preprocesamiento:    \n",
    "\n",
    "skew positiva o negativa. A los cuales pertenece \"Bilirubin\",\"Cholesterol\",\"Albumin\",\"Copper\",\"Alk_Phos\",\"SGOT\",\"Tryglicerides\",\"Platelets\",\"Prothtombin\". A estas les aplicare las siguientes transformaciones SimpleInputer, Standard Scaler y Función raíz cuadrada. La función raíz cuadrada es para quitar el skew y el Standard Scaler es para normalizar la distribución y escalar los datos en caso de usar regresión logística.\n",
    "\n",
    "Al resto de variables les aplicare solamente el imputer y el Standard Scaler para normalizar la distribución."
   ]
  },
  {
   "cell_type": "markdown",
   "metadata": {},
   "source": [
    "#### Diagramas de caja de variables numericas"
   ]
  },
  {
   "cell_type": "code",
   "execution_count": null,
   "metadata": {},
   "outputs": [],
   "source": [
    "def boxplot(df):\n",
    "\n",
    "  cat_con = cirrhosis_Xtrain.select_dtypes(include=\"number\").columns.tolist()[1:]\n",
    "\n",
    "  fig, axes = plt.subplots(4,3, figsize=(50,40))\n",
    "  axes = axes.ravel()\n",
    "  for col, ax in zip(cirrhosis_Xtrain[cat_con], axes):\n",
    "    sns.boxplot(x=cirrhosis_Xtrain[col], ax=ax)\n",
    "    ax.set(title=f'{col}', xlabel=None)\n",
    "\n",
    "boxplot(df_cirrhosis)\n"
   ]
  },
  {
   "cell_type": "markdown",
   "metadata": {},
   "source": [
    "Notamos que efectivamente las variables mencionadas tienen outliers, por lo que vamos a remover algunos de los outliers encontrados. Pero viendo la tendencias de las curvas, haremos las transformaciones mencionadas para evitar el efecto de los outliers significativamente."
   ]
  },
  {
   "cell_type": "markdown",
   "metadata": {},
   "source": [
    "### Analysis univariado de variables categoricas"
   ]
  },
  {
   "cell_type": "markdown",
   "metadata": {},
   "source": [
    "#### Hacemos el countplot de las variables categoricas"
   ]
  },
  {
   "cell_type": "code",
   "execution_count": null,
   "metadata": {},
   "outputs": [],
   "source": [
    "cat_con = cirrhosis_Xtrain.select_dtypes(include=\"object\").columns.tolist()[1:]\n",
    "\n",
    "fig, axes = plt.subplots(3,3, figsize=(50,40))\n",
    "axes = axes.ravel()\n",
    "for col, ax in zip(cirrhosis_Xtrain[cat_con], axes):\n",
    "  sns.countplot(x=cirrhosis_Xtrain[col], ax=ax)\n",
    "  ax.set(title=f'{col}', xlabel=None)"
   ]
  },
  {
   "cell_type": "markdown",
   "metadata": {},
   "source": [
    "Observamos que las variables categoricas, están muy distintas en valores, por lo que valdría la pena verificar cuales si están realmente relacionadas con el valor a predecir. Lo cual veremos en el analisis multivariado de variables no numericas"
   ]
  },
  {
   "cell_type": "markdown",
   "metadata": {},
   "source": [
    "### Analysis multivariado de variables numericas"
   ]
  },
  {
   "cell_type": "markdown",
   "metadata": {},
   "source": [
    "#### Realizamos el mapa de correlación de Pearson para ver si existen variables que esten fuertemente relacionadas entre si, para descartarlas en el analisis."
   ]
  },
  {
   "cell_type": "code",
   "execution_count": null,
   "metadata": {},
   "outputs": [],
   "source": [
    "sns.set(rc={'figure.figsize':(13,13)})\n",
    "cirrhosis_XtrainCorr = cirrhosis_Xtrain.copy().drop('ID',axis=1)\n",
    "cirrhosis_XtrainCorr[\"Stage\"] = cirrhosis_ytrain\n",
    "sns.heatmap(cirrhosis_XtrainCorr.corr(numeric_only=True), annot=True,cmap=\"BuGn\")"
   ]
  },
  {
   "cell_type": "markdown",
   "metadata": {},
   "source": [
    "Observamos que no existe ninguna correlación fuerte negativa o positiva, por lo que decidimos mantener todas las variables en la primera iterración."
   ]
  },
  {
   "cell_type": "markdown",
   "metadata": {},
   "source": [
    "### Analysis multivariado de Variables no númericas"
   ]
  },
  {
   "cell_type": "markdown",
   "metadata": {},
   "source": [
    "#### Realizamos Diagramas de caja para ver como se relacionan las variables con la variable de salida"
   ]
  },
  {
   "cell_type": "code",
   "execution_count": null,
   "metadata": {},
   "outputs": [],
   "source": [
    "cat_con = cirrhosis_Xtrain.select_dtypes(include=\"object\").columns.tolist()\n",
    "df_para_graficar = Graf = pd.concat([cirrhosis_Xtrain[cat_con],cirrhosis_ytrain],axis=1)\n",
    "\n",
    "fig, axes = plt.subplots(2,3, figsize=(50,40))\n",
    "axes = axes.ravel()\n",
    "for col, ax in zip(cirrhosis_Xtrain[cat_con], axes):\n",
    "  sns.boxplot(Graf, x=col,y=\"Status\",ax=ax)\n",
    "  ax.set(title=f'{col}', xlabel=None)"
   ]
  },
  {
   "cell_type": "markdown",
   "metadata": {},
   "source": [
    "Podemos observar que la columna sexo no tiene ninguna relevancia con la catgoria stage, por lo que se podria eliminar, ya que no aporta mucha información. Observamos que el resto de las columnas se pueden conservar"
   ]
  },
  {
   "cell_type": "markdown",
   "metadata": {},
   "source": [
    "# Preprocesamiento"
   ]
  },
  {
   "cell_type": "markdown",
   "metadata": {},
   "source": [
    "### Definir pasos del pipeline"
   ]
  },
  {
   "cell_type": "markdown",
   "metadata": {},
   "source": [
    "#### Declarar imputer para remplazar los valores nulos con el promedio"
   ]
  },
  {
   "cell_type": "code",
   "execution_count": 86,
   "metadata": {},
   "outputs": [],
   "source": [
    "cirrhosis_mean_imputer = SimpleImputer(strategy='mean')\n"
   ]
  },
  {
   "cell_type": "markdown",
   "metadata": {},
   "source": [
    "#### Declarar Standard Scaler para Scalar los datos y estandarizar las distribuciones"
   ]
  },
  {
   "cell_type": "code",
   "execution_count": 87,
   "metadata": {},
   "outputs": [],
   "source": [
    "cirrhosis_standard_scaler = StandardScaler()"
   ]
  },
  {
   "cell_type": "markdown",
   "metadata": {},
   "source": [
    "#### Declarar Function transformer para ejecutar la función logaritmo y ajustar las distribuciones"
   ]
  },
  {
   "cell_type": "code",
   "execution_count": 88,
   "metadata": {},
   "outputs": [],
   "source": [
    "def f(self, input_features):\n",
    "    return input_features\n",
    "\n",
    "cirrhosis_sqrt_transformer = FunctionTransformer(np.sqrt,feature_names_out=f)"
   ]
  },
  {
   "cell_type": "markdown",
   "metadata": {},
   "source": [
    "#### Declarar OneHotEncoder para las variables categoricas"
   ]
  },
  {
   "cell_type": "code",
   "execution_count": 112,
   "metadata": {},
   "outputs": [],
   "source": [
    "cirrhosis_one_hot_encoder = OneHotEncoder()"
   ]
  },
  {
   "cell_type": "markdown",
   "metadata": {},
   "source": [
    "### Definir pipeline de datos"
   ]
  },
  {
   "cell_type": "markdown",
   "metadata": {},
   "source": [
    "Definiremos el pipeline que aplicara las siguientes tareas:\n",
    "\n",
    "Columnas Númericas con skew, que son las siguientes (\"Bilirubin\",\"Cholesterol\",\"Albumin\",\"Copper\",\"Alk_Phos\",\"SGOT\",\"Tryglicerides\",\"Platelets\",\"Prothtombin\"):\n",
    "    1.- Imputar valores con los promedios\n",
    "    2.- Logaritmo para ajustar skew\n",
    "    3.- Scaler para scalra y normalizar la distrubyucion\n",
    "\n",
    "Columnas Numericas sin skew, que son las siguientes (\"N_Days\", \"Age\"):\n",
    "    1.- Imputar valores con los promedios\n",
    "    2.- Scaler para scalar y normalizar la distribución\n",
    "\n",
    "Columnas no Numericas, que son las siguientes (\"Drug\", \"Ascites\",\"Hepatomegaly\", \"Spiders\", Edema ):\n",
    "    1.- OneHotEncoder\n",
    "\n",
    "Quitaremos las siguientes columnas \"ID\", \"Sex\"\n",
    "Stage es ordinal, por lo que se dejara como esta\n"
   ]
  },
  {
   "cell_type": "code",
   "execution_count": 113,
   "metadata": {},
   "outputs": [],
   "source": [
    "cirrhosis_skew_numerico_columnas = [\"Bilirubin\",\"Cholesterol\",\"Albumin\",\"Copper\",\"Alk_Phos\",\"SGOT\",\"Tryglicerides\",\"Platelets\",]\n",
    "cirrhosis_no_skew_numerico_columnas = [\"N_Days\",\"Age\"]\n",
    "cirrhosis_categoricas_columnas =  [\"Drug\",\"Sex\",\"Ascites\",\"Hepatomegaly\",\"Spiders\",\"Edema\"]\n",
    "columnas_a_eliminar = ['Sex']\n",
    "\n",
    "cirrhosis_skew_numerico_pipeline = Pipeline(steps=[\n",
    "    ('imputador',cirrhosis_mean_imputer),\n",
    "    ('Logaritmo',cirrhosis_sqrt_transformer),\n",
    "    ('Escalador',cirrhosis_standard_scaler)\n",
    "    ])\n",
    "cirrhosis_no_skew_numerico_pipeline = Pipeline(steps=[\n",
    "    ('imputador',cirrhosis_mean_imputer),\n",
    "    ('Escalador',cirrhosis_standard_scaler)\n",
    "    ])\n",
    "cirrhosis_categoricas_pipeline = Pipeline(steps=[\n",
    "    ('codificador',cirrhosis_one_hot_encoder)\n",
    "    ])"
   ]
  },
  {
   "cell_type": "markdown",
   "metadata": {},
   "source": [
    "### Definir el transformador de columnas para aplicar de manera correcta las transformaciones"
   ]
  },
  {
   "cell_type": "code",
   "execution_count": null,
   "metadata": {},
   "outputs": [],
   "source": [
    "cirrhosis_transformador_de_columnas = ColumnTransformer(transformers = [('numericas_con_skew', cirrhosis_skew_numerico_pipeline, cirrhosis_skew_numerico_columnas),('numericas_sin_skew', cirrhosis_no_skew_numerico_pipeline, cirrhosis_no_skew_numerico_columnas),('categoricas',cirrhosis_categoricas_pipeline,cirrhosis_categoricas_columnas),('Eliminar_Columnas','drop',columnas_a_eliminar)],remainder='passthrough',verbose_feature_names_out=False)\n",
    "cirrhosis_transformador_de_columnas"
   ]
  },
  {
   "cell_type": "markdown",
   "metadata": {},
   "source": [
    "### Entrenar el transformador con los datos de entrenamiento"
   ]
  },
  {
   "cell_type": "code",
   "execution_count": 122,
   "metadata": {},
   "outputs": [],
   "source": [
    "cirrhosis_transformador_de_columnas_entrenado = cirrhosis_transformador_de_columnas.fit(cirrhosis_Xtrain)\n"
   ]
  },
  {
   "cell_type": "markdown",
   "metadata": {},
   "source": [
    "### Preprocesar los datos de entrenamiento"
   ]
  },
  {
   "cell_type": "code",
   "execution_count": null,
   "metadata": {},
   "outputs": [],
   "source": [
    "cirrhhosis_Xtrain_preprocesado = cirrhosis_transformador_de_columnas.transform(cirrhosis_Xtrain)\n",
    "cirrhhosis_Xtrain_preprocesado_df = pd.DataFrame(\n",
    "    cirrhhosis_Xtrain_preprocesado, columns=cirrhosis_transformador_de_columnas_entrenado.get_feature_names_out(),\n",
    "    index=cirrhosis_ytrain.index)\n",
    "cirrhhosis_Xtrain_preprocesado_df.head()"
   ]
  },
  {
   "cell_type": "markdown",
   "metadata": {},
   "source": [
    "### Salvar los datos preprocesados de entrenamiento"
   ]
  },
  {
   "cell_type": "code",
   "execution_count": 147,
   "metadata": {},
   "outputs": [],
   "source": [
    "cirrhosis_X_train_preprocesed_path = '../data/cirrhosis_X_train_preprocesed.csv'\n",
    "cirrhhosis_Xtrain_preprocesado_df.to_csv(cirrhosis_X_train_preprocesed_path)"
   ]
  },
  {
   "cell_type": "markdown",
   "metadata": {},
   "source": [
    "### Preprocesar los datos de validación"
   ]
  },
  {
   "cell_type": "code",
   "execution_count": null,
   "metadata": {},
   "outputs": [],
   "source": [
    "cirrhhosis_Xval_preprocesado = cirrhosis_transformador_de_columnas.transform(cirrhosis_Xval)\n",
    "cirrhhosis_Xval_preprocesado_df = pd.DataFrame(\n",
    "    cirrhhosis_Xval_preprocesado, columns=cirrhosis_transformador_de_columnas_entrenado.get_feature_names_out(),\n",
    "    index=cirrhosis_yval.index)\n",
    "cirrhhosis_Xval_preprocesado_df.head()"
   ]
  },
  {
   "cell_type": "markdown",
   "metadata": {},
   "source": [
    "### Salvar los datos de validación preprocesados"
   ]
  },
  {
   "cell_type": "code",
   "execution_count": 127,
   "metadata": {},
   "outputs": [],
   "source": [
    "cirrhosis_X_val_preprocesed_path = '../data/cirrhosis_X_val_preprocesed.csv'\n",
    "cirrhhosis_Xval_preprocesado_df.to_csv(cirrhosis_X_val_preprocesed_path)"
   ]
  },
  {
   "cell_type": "markdown",
   "metadata": {},
   "source": [
    "### Preprocesar los datos de prueba"
   ]
  },
  {
   "cell_type": "code",
   "execution_count": null,
   "metadata": {},
   "outputs": [],
   "source": [
    "cirrhhosis_Xtest_preprocesado = cirrhosis_transformador_de_columnas.transform(cirrhosis_Xtest)\n",
    "cirrhhosis_Xtest_preprocesado_df = pd.DataFrame(\n",
    "    cirrhhosis_Xtest_preprocesado, columns=cirrhosis_transformador_de_columnas_entrenado.get_feature_names_out(),\n",
    "    index=cirrhosis_ytest.index)\n",
    "cirrhhosis_Xtest_preprocesado_df.head()"
   ]
  },
  {
   "cell_type": "markdown",
   "metadata": {},
   "source": [
    "### Salvar los datos preprocesados de prueba"
   ]
  },
  {
   "cell_type": "code",
   "execution_count": 129,
   "metadata": {},
   "outputs": [],
   "source": [
    "cirrhosis_X_test_preprocesed_path = '../data/cirrhosis_X_test_preprocesed.csv'\n",
    "cirrhhosis_Xtest_preprocesado_df.to_csv(cirrhosis_X_test_preprocesed_path)"
   ]
  },
  {
   "cell_type": "markdown",
   "metadata": {},
   "source": [
    "# Entrenar Modelo"
   ]
  },
  {
   "cell_type": "code",
   "execution_count": null,
   "metadata": {},
   "outputs": [],
   "source": [
    "model = LogisticRegression(max_iter=3000)\n",
    "model.fit(cirrhhosis_Xtrain_preprocesado, cirrhosis_ytrain)"
   ]
  },
  {
   "cell_type": "markdown",
   "metadata": {},
   "source": [
    "# Evaluar modelo"
   ]
  },
  {
   "cell_type": "markdown",
   "metadata": {},
   "source": [
    "## Realizar predicciones"
   ]
  },
  {
   "cell_type": "code",
   "execution_count": 142,
   "metadata": {},
   "outputs": [],
   "source": [
    "y_pred = model.predict(cirrhhosis_Xtrain_preprocesado)\n"
   ]
  },
  {
   "cell_type": "markdown",
   "metadata": {},
   "source": [
    "## Matriz de confusion"
   ]
  },
  {
   "cell_type": "code",
   "execution_count": null,
   "metadata": {},
   "outputs": [],
   "source": [
    "cm = confusion_matrix(cirrhosis_ytrain, y_pred)\n",
    "plt.figure(figsize=(10,7))\n",
    "sns.heatmap(cm, annot=True, fmt='d', cmap='Blues', xticklabels=np.unique(cirrhosis_ytrain), yticklabels=np.unique(cirrhosis_ytrain))\n",
    "plt.xlabel('Predicted')\n",
    "plt.ylabel('True')\n",
    "plt.title('Confusion Matrix')\n",
    "plt.show()"
   ]
  },
  {
   "cell_type": "markdown",
   "metadata": {},
   "source": [
    "## Precision"
   ]
  },
  {
   "cell_type": "code",
   "execution_count": null,
   "metadata": {},
   "outputs": [],
   "source": [
    "scores = cross_val_score(model, cirrhhosis_Xtrain_preprocesado, cirrhosis_ytrain, cv=10)\n",
    "print(\"Average accuracy with CV:\", np.mean(scores))"
   ]
  },
  {
   "cell_type": "markdown",
   "metadata": {},
   "source": [
    "# Salvar Modelo"
   ]
  },
  {
   "cell_type": "code",
   "execution_count": 146,
   "metadata": {},
   "outputs": [],
   "source": [
    "path_del_modelo = \"../models/cirrhosis_log_reg_model.sav\"\n",
    "pickle.dump(model, open(path_del_modelo, 'wb'))"
   ]
  }
 ],
 "metadata": {
  "kernelspec": {
   "display_name": ".venv",
   "language": "python",
   "name": "python3"
  },
  "language_info": {
   "codemirror_mode": {
    "name": "ipython",
    "version": 3
   },
   "file_extension": ".py",
   "mimetype": "text/x-python",
   "name": "python",
   "nbconvert_exporter": "python",
   "pygments_lexer": "ipython3",
   "version": "3.10.6"
  }
 },
 "nbformat": 4,
 "nbformat_minor": 2
}
